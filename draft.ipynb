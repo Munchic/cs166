{
 "cells": [
  {
   "cell_type": "code",
   "execution_count": null,
   "metadata": {},
   "outputs": [],
   "source": [
    "def get_destinations(self, passengers):\n",
    "    destinations = {\n",
    "        'waiting': [],\n",
    "        'in elevator': []\n",
    "    }\n",
    "    for passenger in passengers:\n",
    "        destinations['waiting'].append((passenger.start_floor, passenger.end_floor))\n",
    "        destinations['in elevator'].append(None)\n",
    "        \n",
    "    return destinations"
   ]
  },
  {
   "cell_type": "code",
   "execution_count": 1,
   "metadata": {},
   "outputs": [],
   "source": [
    "import numpy as np\n",
    "from bokeh.plotting import figure, show\n",
    "from bokeh.models import ColumnDataSource, LinearColorMapper\n",
    "\n",
    "\n",
    "TOOLS='pan,wheel_zoom,box_zoom,reset'\n",
    "p = figure(tools=TOOLS)\n",
    "\n",
    "x = np.linspace(-10,10,200)\n",
    "y = -x**2\n",
    "\n",
    "data_source = ColumnDataSource({'x':x,'y':y})\n",
    "\n",
    "color_mapper = LinearColorMapper(palette='Magma256', low=min(y), high=max(y))\n",
    "\n",
    "# specify that we want to map the colors to the y values, \n",
    "# this could be replaced with a list of colors\n",
    "p.scatter(x,y,color={'field': 'y', 'transform': color_mapper})\n",
    "\n",
    "show(p)"
   ]
  },
  {
   "cell_type": "code",
   "execution_count": null,
   "metadata": {},
   "outputs": [],
   "source": []
  }
 ],
 "metadata": {
  "kernelspec": {
   "display_name": "Python 3",
   "language": "python",
   "name": "python3"
  },
  "language_info": {
   "codemirror_mode": {
    "name": "ipython",
    "version": 3
   },
   "file_extension": ".py",
   "mimetype": "text/x-python",
   "name": "python",
   "nbconvert_exporter": "python",
   "pygments_lexer": "ipython3",
   "version": "3.6.5"
  }
 },
 "nbformat": 4,
 "nbformat_minor": 4
}
