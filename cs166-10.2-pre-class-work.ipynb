{
 "cells": [
  {
   "cell_type": "code",
   "execution_count": 75,
   "metadata": {},
   "outputs": [],
   "source": [
    "from scipy.stats import expon, uniform, norm\n",
    "import numpy as np\n",
    "import random\n",
    "import matplotlib.pyplot as plt"
   ]
  },
  {
   "cell_type": "markdown",
   "metadata": {},
   "source": [
    "### Question 1"
   ]
  },
  {
   "cell_type": "code",
   "execution_count": 34,
   "metadata": {},
   "outputs": [],
   "source": [
    "a = expon(scale=1/2).rvs(100)"
   ]
  },
  {
   "cell_type": "code",
   "execution_count": 65,
   "metadata": {},
   "outputs": [
    {
     "name": "stdout",
     "output_type": "stream",
     "text": [
      "4.853419431609959\n"
     ]
    }
   ],
   "source": [
    "PASS_SIM = 1000\n",
    "BUS_SIM = 1000\n",
    "_lambda = 0.2  # mins waiting time\n",
    "avg_wait_time = 0\n",
    "\n",
    "# exponential case\n",
    "for _ in range(PASS_SIM):\n",
    "    passenger = uniform(scale=_lambda).rvs()\n",
    "    buses = expon(scale=1 / _lambda).rvs(BUS_SIM)\n",
    "    buses_to_catch = buses[buses > passenger]\n",
    "    avg_wait_time = np.mean(buses_to_catch - passenger)\n",
    "    \n",
    "print(avg_wait_time)"
   ]
  },
  {
   "cell_type": "code",
   "execution_count": 66,
   "metadata": {},
   "outputs": [
    {
     "name": "stdout",
     "output_type": "stream",
     "text": [
      "0.10760654963971528\n"
     ]
    }
   ],
   "source": [
    "avg_wait_time_2 = 0\n",
    "\n",
    "for _ in range(PASS_SIM):\n",
    "    passenger = uniform(scale=_lambda).rvs()\n",
    "    buses = uniform(scale=2*_lambda).rvs(BUS_SIM)\n",
    "    buses_to_catch = buses[buses > passenger]\n",
    "    avg_wait_time_2 = np.mean(buses_to_catch - passenger)\n",
    "    \n",
    "print(avg_wait_time_2)"
   ]
  },
  {
   "cell_type": "markdown",
   "metadata": {},
   "source": [
    "Makes sense, the $\\text{cdf}(next\\ bus) - \\text{cdf}(passenger)$ is larger for the uniform distribution since the cdf function rises linearly. For exponential case, the rate of growth drops."
   ]
  },
  {
   "cell_type": "markdown",
   "metadata": {},
   "source": [
    "### Question 2"
   ]
  },
  {
   "cell_type": "code",
   "execution_count": 50,
   "metadata": {},
   "outputs": [],
   "source": [
    "data = {\n",
    "    50: 0.00832, 51: 0.00911, 52: 0.00996, 53: 0.01089, 54: 0.01190,\n",
    "    55: 0.01300, 56: 0.01421, 57: 0.01554, 58: 0.01700, 59: 0.01859,\n",
    "    60: 0.02034, 61: 0.02224, 62: 0.02431, 63: 0.02657, 64: 0.02904,\n",
    "    65: 0.03175, 66: 0.03474, 67: 0.03804, 68: 0.04168, 69: 0.04561,\n",
    "    70: 0.04979, 71: 0.05415, 72: 0.05865, 73: 0.06326, 74: 0.06812,\n",
    "    75: 0.07337, 76: 0.07918, 77: 0.08570, 78: 0.09306, 79: 0.10119,\n",
    "    80: 0.10998, 81: 0.11935, 82: 0.12917, 83: 0.13938, 84: 0.15001,\n",
    "    85: 0.16114, 86: 0.17282, 87: 0.18513, 88: 0.19825, 89: 0.21246,\n",
    "    90: 0.22814, 91: 0.24577, 92: 0.26593, 93: 0.28930, 94: 0.31666,\n",
    "    95: 0.35124, 96: 0.40056, 97: 0.48842, 98: 0.66815, 99: 0.72000,\n",
    "    100: 0.76000, 101: 0.80000, 102: 0.85000, 103: 0.90000,\n",
    "    104: 0.96000, 105: 1.00000\n",
    "}"
   ]
  },
  {
   "cell_type": "code",
   "execution_count": 72,
   "metadata": {},
   "outputs": [],
   "source": [
    "NUM_SIM = 1000\n",
    "init_money = 150000\n",
    "growth_mu = 0.08\n",
    "growth_std = 0.09\n",
    "\n",
    "inv_amt = 10000\n",
    "spending = 65000\n",
    "\n",
    "def get_fannie_age():\n",
    "    cur_money = init_money\n",
    "    for age, prob_die in data.items():\n",
    "        if random.random() > prob_die:\n",
    "            growth_amt = norm(loc=growth_mu, scale=growth_std).rvs()\n",
    "            cur_money *= growth_amt\n",
    "            if age < 70:\n",
    "                cur_money += 10000\n",
    "            else:\n",
    "                cur_money -= 65000\n",
    "        else:\n",
    "            return cur_money"
   ]
  },
  {
   "cell_type": "code",
   "execution_count": 73,
   "metadata": {},
   "outputs": [],
   "source": [
    "amt_money_store = []\n",
    "for _ in range(NUM_SIM):\n",
    "    amt_money_store.append(get_fannie_age())"
   ]
  },
  {
   "cell_type": "code",
   "execution_count": 78,
   "metadata": {},
   "outputs": [
    {
     "data": {
      "image/png": "[encoded data removed]",
      "text/plain": [
       "<Figure size 1152x432 with 1 Axes>"
      ]
     },
     "metadata": {
      "needs_background": "light"
     },
     "output_type": "display_data"
    }
   ],
   "source": [
    "plt.figure(figsize=(16, 6))\n",
    "plt.hist(amt_money_store, bins=100)\n",
    "plt.show()"
   ]
  },
  {
   "cell_type": "code",
   "execution_count": null,
   "metadata": {},
   "outputs": [],
   "source": []
  }
 ],
 "metadata": {
  "kernelspec": {
   "display_name": "Python 3",
   "language": "python",
   "name": "python3"
  },
  "language_info": {
   "codemirror_mode": {
    "name": "ipython",
    "version": 3
   },
   "file_extension": ".py",
   "mimetype": "text/x-python",
   "name": "python",
   "nbconvert_exporter": "python",
   "pygments_lexer": "ipython3",
   "version": "3.6.5"
  }
 },
 "nbformat": 4,
 "nbformat_minor": 4
}
