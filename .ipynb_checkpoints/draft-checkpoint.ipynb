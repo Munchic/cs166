{
 "cells": [
  {
   "cell_type": "code",
   "execution_count": null,
   "metadata": {},
   "outputs": [],
   "source": [
    "def get_destinations(self, passengers):\n",
    "    destinations = {\n",
    "        'waiting': [],\n",
    "        'in elevator': []\n",
    "    }\n",
    "    for passenger in passengers:\n",
    "        destinations['waiting'].append((passenger.start_floor, passenger.end_floor))\n",
    "        \n",
    "    return destinations"
   ]
  }
 ],
 "metadata": {
  "kernelspec": {
   "display_name": "Python 3",
   "language": "python",
   "name": "python3"
  },
  "language_info": {
   "codemirror_mode": {
    "name": "ipython",
    "version": 3
   },
   "file_extension": ".py",
   "mimetype": "text/x-python",
   "name": "python",
   "nbconvert_exporter": "python",
   "pygments_lexer": "ipython3",
   "version": "3.6.5"
  }
 },
 "nbformat": 4,
 "nbformat_minor": 4
}
