{
 "cells": [
  {
   "cell_type": "code",
   "execution_count": 207,
   "metadata": {},
   "outputs": [],
   "source": [
    "import math\n",
    "\n",
    "import uuid\n",
    "import pandas as pd\n",
    "\n",
    "class GeomLib:\n",
    "    '''\n",
    "    Storage of shape objects created\n",
    "    '''\n",
    "    def __init__(self):\n",
    "        self.store = {}  # initialize dictionary for storing shapes\n",
    "\n",
    "    def add(self, shape, unique_id=None, **kwargs):\n",
    "        new_id = uuid.uuid4().hex if unique_id == None else unique_id\n",
    "        if shape in ALL_SHP:\n",
    "            self.store[new_id] = GeomObj(new_id, shape.lower(), **kwargs)\n",
    "        else:\n",
    "            print('Shape not supported. No new item is added.')\n",
    "\n",
    "    def add_csv(self, path):\n",
    "        '''\n",
    "        Load named CSV from items in datasets/ folder on local machine\n",
    "\n",
    "        Parameters\n",
    "        ----------\n",
    "        path: path relative to inside of python-app\n",
    "        '''\n",
    "\n",
    "        input_csv = pd.read_csv(path)\n",
    "        \n",
    "        for _, row in input_csv.iterrows():\n",
    "    \n",
    "            print(row['Param_2'])\n",
    "            shp_params = {row['Param_1']: row['Value_1']}\n",
    "            if not(row['Param_2'] == '' or pd.isnull(row['Param_2'])):  # check for existence of second parameter\n",
    "                shp_params[row['Param_2']] = row['Value_2']\n",
    "            \n",
    "            print(shp_params)\n",
    "            \n",
    "            self.add(\n",
    "                shape=row['Type'],\n",
    "                unique_id=str(row['ID']),\n",
    "                **shp_params\n",
    "            )\n",
    "    \n",
    "    def __getitem__(self, shape_id):\n",
    "        if shape_id in self.store.keys():\n",
    "            return self.store[shape_id]\n",
    "\n",
    "    def __str__(self):\n",
    "        cum_str = ''\n",
    "        \n",
    "        for key in self.store:\n",
    "            val = self.store[key]\n",
    "            cum_str += '{} {} {} {}\\n'.format(key, val.shape, val.dim, val.params) \n",
    "            \n",
    "        return cum_str\n",
    "\n",
    "\n",
    "\n",
    "class GeomObj:\n",
    "    '''\n",
    "    Parent class containing overlapping properties of geometric shapes\n",
    "\n",
    "    Parameters\n",
    "    ----------\n",
    "    id: string\n",
    "        unique uuid id\n",
    "    shape: string\n",
    "        type of geometrics shape\n",
    "    '''\n",
    "    def __init__(self, id, shape, **kwargs):\n",
    "        self.id = id\n",
    "        self.shape = shape\n",
    "        self.params = {}\n",
    "\n",
    "        if shape in FLAT_SHP:\n",
    "            self.dim = 2\n",
    "            for arg in kwargs:\n",
    "                self.params[arg] = kwargs.get(arg, 0)\n",
    "\n",
    "        elif shape in VOL_SHP:\n",
    "            self.dim = 3\n",
    "            for arg in kwargs:\n",
    "                self.params[arg] = kwargs.get(arg, 0)\n",
    "\n",
    "    def project(self, length=1):\n",
    "        if self.dim == 2:\n",
    "            if self.shape == 'circle':\n",
    "                self.params['length'] = length\n",
    "\n",
    "            self.shape = VOL_SHP[FLAT_SHP.index(self.shape)]\n",
    "            self.dim = 3  # scale up\n",
    "        else:\n",
    "            print('Shape is already in 3D.')\n",
    "\n",
    "    def flatten(self):\n",
    "        if self.dim == 3:\n",
    "            if self.shape == 'cylinder':\n",
    "                self.params.pop('length', None) \n",
    "            \n",
    "            self.shape = FLAT_SHP[VOL_SHP.index(self.shape)]\n",
    "            self.dim = 2  # scale down\n",
    "        else:\n",
    "            print('Shape is already in 2D.')\n",
    "\n",
    "    def area(self):\n",
    "        res = 0\n",
    "\n",
    "        if self.shape == 'circle':\n",
    "            res = math.pi * self.params['radius']**2\n",
    "        elif self.shape == 'square':\n",
    "            res = self.params['length']**2\n",
    "        elif self.shape == 'cylinder':\n",
    "            print('Calculated surface area.')\n",
    "            res = 2 * math.pi * (self.params['radius'] * self.params['length'] + self.params['radius']**2)\n",
    "        elif self.shape == 'cube':\n",
    "            print('Calculated surface area.')\n",
    "            res = 6 * self.params['length']**2\n",
    "\n",
    "        return res\n",
    "    \n",
    "    def volume(self):\n",
    "        res = 0\n",
    "\n",
    "        if self.dim == 2:\n",
    "            print('2D figure has no volume.')\n",
    "            return 0\n",
    "    \n",
    "        elif self.shape == 'cylinder':\n",
    "            res = math.pi * self.params['radius']**2 * self.params['length']\n",
    "        elif self.shape == 'cube':\n",
    "            res = self.params['length']**3\n",
    "\n",
    "        return res"
   ]
  },
  {
   "cell_type": "code",
   "execution_count": null,
   "metadata": {},
   "outputs": [],
   "source": []
  },
  {
   "cell_type": "code",
   "execution_count": 208,
   "metadata": {},
   "outputs": [],
   "source": [
    "shp_lib = GeomLib()"
   ]
  },
  {
   "cell_type": "code",
   "execution_count": 124,
   "metadata": {},
   "outputs": [],
   "source": [
    "shp_lib.add_shape(shape='circle', radius=3)\n",
    "shp_lib.add_shape(shape='circle', radius=3)\n",
    "shp_lib.add_shape(shape='circle', radius=3)\n",
    "shp_lib.add_shape(shape='circle', radius=3)\n",
    "shp_lib.add_shape(shape='square', length=4)"
   ]
  },
  {
   "cell_type": "code",
   "execution_count": 125,
   "metadata": {},
   "outputs": [
    {
     "name": "stdout",
     "output_type": "stream",
     "text": [
      "165730364935771466695661295912076180334 circle 2 {'radius': 3}\n",
      "4810019551752023509332922145104423417 circle 2 {'radius': 3}\n",
      "6127070962744976103545517119565303059 circle 2 {'radius': 3}\n",
      "162368424690962217221637939604218019346 circle 2 {'radius': 3}\n",
      "299790741848251506019318649610756288115 square 2 {'length': 4}\n",
      "\n"
     ]
    }
   ],
   "source": [
    "print(shp_lib)"
   ]
  },
  {
   "cell_type": "code",
   "execution_count": 119,
   "metadata": {},
   "outputs": [],
   "source": [
    "shp_lib.get(\"665d06737cd34300ba91a68af51a3379\").project(length=4)"
   ]
  },
  {
   "cell_type": "code",
   "execution_count": 120,
   "metadata": {},
   "outputs": [
    {
     "name": "stdout",
     "output_type": "stream",
     "text": [
      "034062a8af5347ada034bb199cb1bc78 circle 2 {'radius': 3}\n",
      "028e1e9dd0c54ace998ce240d9447365 circle 2 {'radius': 3}\n",
      "4c4d5de5c59f4b66882e57cac688689c circle 2 {'radius': 3}\n",
      "665d06737cd34300ba91a68af51a3379 cylinder 3 {'radius': 3, 'length': 4}\n",
      "638c3e615dbf4b1789e904dde8d2faa3 cube 3 {'length': 4}\n",
      "\n"
     ]
    }
   ],
   "source": [
    "print(shp_lib)"
   ]
  },
  {
   "cell_type": "code",
   "execution_count": 121,
   "metadata": {},
   "outputs": [
    {
     "data": {
      "text/plain": [
       "113.09733552923255"
      ]
     },
     "execution_count": 121,
     "metadata": {},
     "output_type": "execute_result"
    }
   ],
   "source": [
    "shp_lib.store[\"665d06737cd34300ba91a68af51a3379\"].volume()"
   ]
  },
  {
   "cell_type": "code",
   "execution_count": 93,
   "metadata": {},
   "outputs": [
    {
     "name": "stdout",
     "output_type": "stream",
     "text": [
      "96d0adf405dd4d64a5c46d53f35effe4 circle 2 {'radius': 3}\n",
      "4a0033d31a034be686b3adcbde0332d8 circle 2 {'radius': 3}\n",
      "cb2bd67f987740dca17dc96ca502f24c circle 2 {'radius': 3}\n",
      "11baae79026d4e8983b379fd8754517e circle 2 {'radius': 3}\n",
      "c9457b6a813d4f53804b8834be24e580 square 2 {'length': 4}\n",
      "\n"
     ]
    }
   ],
   "source": [
    "print(shp_lib)"
   ]
  },
  {
   "cell_type": "code",
   "execution_count": 94,
   "metadata": {},
   "outputs": [],
   "source": [
    "shp_lib.store[\"c9457b6a813d4f53804b8834be24e580\"].project()"
   ]
  },
  {
   "cell_type": "code",
   "execution_count": 95,
   "metadata": {},
   "outputs": [
    {
     "name": "stdout",
     "output_type": "stream",
     "text": [
      "96d0adf405dd4d64a5c46d53f35effe4 circle 2 {'radius': 3}\n",
      "4a0033d31a034be686b3adcbde0332d8 circle 2 {'radius': 3}\n",
      "cb2bd67f987740dca17dc96ca502f24c circle 2 {'radius': 3}\n",
      "11baae79026d4e8983b379fd8754517e circle 2 {'radius': 3}\n",
      "c9457b6a813d4f53804b8834be24e580 cube 3 {'length': 4}\n",
      "\n"
     ]
    }
   ],
   "source": [
    "print(shp_lib)"
   ]
  },
  {
   "cell_type": "code",
   "execution_count": 96,
   "metadata": {},
   "outputs": [],
   "source": [
    "shp_lib.store[\"c9457b6a813d4f53804b8834be24e580\"].flatten()"
   ]
  },
  {
   "cell_type": "code",
   "execution_count": 97,
   "metadata": {},
   "outputs": [
    {
     "name": "stdout",
     "output_type": "stream",
     "text": [
      "96d0adf405dd4d64a5c46d53f35effe4 circle 2 {'radius': 3}\n",
      "4a0033d31a034be686b3adcbde0332d8 circle 2 {'radius': 3}\n",
      "cb2bd67f987740dca17dc96ca502f24c circle 2 {'radius': 3}\n",
      "11baae79026d4e8983b379fd8754517e circle 2 {'radius': 3}\n",
      "c9457b6a813d4f53804b8834be24e580 square 2 {'length': 4}\n",
      "\n"
     ]
    }
   ],
   "source": [
    "print(shp_lib)"
   ]
  },
  {
   "cell_type": "code",
   "execution_count": 170,
   "metadata": {},
   "outputs": [],
   "source": [
    "b =  pd.read_csv('shapes.csv')"
   ]
  },
  {
   "cell_type": "code",
   "execution_count": 153,
   "metadata": {},
   "outputs": [
    {
     "name": "stdout",
     "output_type": "stream",
     "text": [
      "1 \n",
      "2 \n",
      "3 \n",
      "4 \n",
      "5 \n",
      "6 \n"
     ]
    }
   ],
   "source": [
    "for _, row in b.iterrows():\n",
    "    print(row[0])"
   ]
  },
  {
   "cell_type": "code",
   "execution_count": 159,
   "metadata": {},
   "outputs": [
    {
     "name": "stdout",
     "output_type": "stream",
     "text": [
      "0\n",
      "1\n",
      "2\n",
      "3\n",
      "4\n",
      "5\n"
     ]
    }
   ],
   "source": [
    "for ind in b.index:\n",
    "    print(ind)"
   ]
  },
  {
   "cell_type": "code",
   "execution_count": 175,
   "metadata": {},
   "outputs": [
    {
     "name": "stdout",
     "output_type": "stream",
     "text": [
      "1\n",
      "2\n",
      "3\n",
      "4\n",
      "5\n",
      "6\n"
     ]
    }
   ],
   "source": [
    "for _, row in b.iterrows():\n",
    "    print(row['ID'])"
   ]
  },
  {
   "cell_type": "code",
   "execution_count": 176,
   "metadata": {},
   "outputs": [
    {
     "data": {
      "text/html": [
       "<div>\n",
       "<style scoped>\n",
       "    .dataframe tbody tr th:only-of-type {\n",
       "        vertical-align: middle;\n",
       "    }\n",
       "\n",
       "    .dataframe tbody tr th {\n",
       "        vertical-align: top;\n",
       "    }\n",
       "\n",
       "    .dataframe thead th {\n",
       "        text-align: right;\n",
       "    }\n",
       "</style>\n",
       "<table border=\"1\" class=\"dataframe\">\n",
       "  <thead>\n",
       "    <tr style=\"text-align: right;\">\n",
       "      <th></th>\n",
       "      <th>ID</th>\n",
       "      <th>Type</th>\n",
       "      <th>Dimensionality</th>\n",
       "      <th>Param_1</th>\n",
       "      <th>Value_1</th>\n",
       "      <th>Param_2</th>\n",
       "      <th>Value_2</th>\n",
       "    </tr>\n",
       "  </thead>\n",
       "  <tbody>\n",
       "    <tr>\n",
       "      <th>0</th>\n",
       "      <td>1</td>\n",
       "      <td>circle</td>\n",
       "      <td>2</td>\n",
       "      <td>radius</td>\n",
       "      <td>3.0</td>\n",
       "      <td>NaN</td>\n",
       "      <td>NaN</td>\n",
       "    </tr>\n",
       "    <tr>\n",
       "      <th>1</th>\n",
       "      <td>2</td>\n",
       "      <td>square</td>\n",
       "      <td>2</td>\n",
       "      <td>length</td>\n",
       "      <td>1.0</td>\n",
       "      <td>NaN</td>\n",
       "      <td>NaN</td>\n",
       "    </tr>\n",
       "    <tr>\n",
       "      <th>2</th>\n",
       "      <td>3</td>\n",
       "      <td>cylinder</td>\n",
       "      <td>3</td>\n",
       "      <td>radius</td>\n",
       "      <td>1.5</td>\n",
       "      <td>length</td>\n",
       "      <td>4.0</td>\n",
       "    </tr>\n",
       "    <tr>\n",
       "      <th>3</th>\n",
       "      <td>4</td>\n",
       "      <td>square</td>\n",
       "      <td>2</td>\n",
       "      <td>length</td>\n",
       "      <td>3.0</td>\n",
       "      <td>NaN</td>\n",
       "      <td>NaN</td>\n",
       "    </tr>\n",
       "    <tr>\n",
       "      <th>4</th>\n",
       "      <td>5</td>\n",
       "      <td>cylinder</td>\n",
       "      <td>3</td>\n",
       "      <td>radius</td>\n",
       "      <td>7.0</td>\n",
       "      <td>length</td>\n",
       "      <td>1.0</td>\n",
       "    </tr>\n",
       "    <tr>\n",
       "      <th>5</th>\n",
       "      <td>6</td>\n",
       "      <td>cube</td>\n",
       "      <td>3</td>\n",
       "      <td>length</td>\n",
       "      <td>5.0</td>\n",
       "      <td>NaN</td>\n",
       "      <td>NaN</td>\n",
       "    </tr>\n",
       "  </tbody>\n",
       "</table>\n",
       "</div>"
      ],
      "text/plain": [
       "   ID      Type  Dimensionality Param_1  Value_1 Param_2  Value_2\n",
       "0   1    circle               2  radius      3.0     NaN      NaN\n",
       "1   2    square               2  length      1.0     NaN      NaN\n",
       "2   3  cylinder               3  radius      1.5  length      4.0\n",
       "3   4    square               2  length      3.0     NaN      NaN\n",
       "4   5  cylinder               3  radius      7.0  length      1.0\n",
       "5   6      cube               3  length      5.0     NaN      NaN"
      ]
     },
     "execution_count": 176,
     "metadata": {},
     "output_type": "execute_result"
    }
   ],
   "source": [
    "b"
   ]
  },
  {
   "cell_type": "code",
   "execution_count": 209,
   "metadata": {},
   "outputs": [
    {
     "name": "stdout",
     "output_type": "stream",
     "text": [
      "radius\n",
      "{'radius': 3.0, nan: nan}\n"
     ]
    },
    {
     "ename": "TypeError",
     "evalue": "add() keywords must be strings",
     "output_type": "error",
     "traceback": [
      "\u001b[0;31m---------------------------------------------------------------------------\u001b[0m",
      "\u001b[0;31mTypeError\u001b[0m                                 Traceback (most recent call last)",
      "\u001b[0;32m<ipython-input-209-28f6d215da60>\u001b[0m in \u001b[0;36m<module>\u001b[0;34m\u001b[0m\n\u001b[0;32m----> 1\u001b[0;31m \u001b[0mshp_lib\u001b[0m\u001b[0;34m.\u001b[0m\u001b[0madd_csv\u001b[0m\u001b[0;34m(\u001b[0m\u001b[0;34m'shapes.csv'\u001b[0m\u001b[0;34m)\u001b[0m\u001b[0;34m\u001b[0m\u001b[0m\n\u001b[0m",
      "\u001b[0;32m<ipython-input-207-b4c9167b43bb>\u001b[0m in \u001b[0;36madd_csv\u001b[0;34m(self, path)\u001b[0m\n\u001b[1;32m     41\u001b[0m                 \u001b[0mshape\u001b[0m\u001b[0;34m=\u001b[0m\u001b[0mrow\u001b[0m\u001b[0;34m[\u001b[0m\u001b[0;34m'Type'\u001b[0m\u001b[0;34m]\u001b[0m\u001b[0;34m,\u001b[0m\u001b[0;34m\u001b[0m\u001b[0m\n\u001b[1;32m     42\u001b[0m                 \u001b[0munique_id\u001b[0m\u001b[0;34m=\u001b[0m\u001b[0mstr\u001b[0m\u001b[0;34m(\u001b[0m\u001b[0mrow\u001b[0m\u001b[0;34m[\u001b[0m\u001b[0;34m'ID'\u001b[0m\u001b[0;34m]\u001b[0m\u001b[0;34m)\u001b[0m\u001b[0;34m,\u001b[0m\u001b[0;34m\u001b[0m\u001b[0m\n\u001b[0;32m---> 43\u001b[0;31m                 \u001b[0;34m**\u001b[0m\u001b[0mshp_params\u001b[0m\u001b[0;34m\u001b[0m\u001b[0m\n\u001b[0m\u001b[1;32m     44\u001b[0m             )\n\u001b[1;32m     45\u001b[0m \u001b[0;34m\u001b[0m\u001b[0m\n",
      "\u001b[0;31mTypeError\u001b[0m: add() keywords must be strings"
     ]
    }
   ],
   "source": [
    "shp_lib.add_csv('shapes.csv')"
   ]
  },
  {
   "cell_type": "code",
   "execution_count": 190,
   "metadata": {},
   "outputs": [
    {
     "name": "stdout",
     "output_type": "stream",
     "text": [
      "1 circle 2 {'radius': 3.0}\n",
      "2 square 2 {'length': 1.0}\n",
      "3 cylinder 3 {'radius': 1.5, 'length': 4.0}\n",
      "4 square 2 {'length': 3.0}\n",
      "5 cylinder 3 {'radius': 7.0, 'length': 1.0}\n",
      "6 cube 3 {'length': 5.0}\n",
      "\n"
     ]
    }
   ],
   "source": [
    "print(shp_lib)"
   ]
  },
  {
   "cell_type": "code",
   "execution_count": null,
   "metadata": {},
   "outputs": [],
   "source": []
  }
 ],
 "metadata": {
  "kernelspec": {
   "display_name": "Python 3",
   "language": "python",
   "name": "python3"
  },
  "language_info": {
   "codemirror_mode": {
    "name": "ipython",
    "version": 3
   },
   "file_extension": ".py",
   "mimetype": "text/x-python",
   "name": "python",
   "nbconvert_exporter": "python",
   "pygments_lexer": "ipython3",
   "version": "3.6.5"
  }
 },
 "nbformat": 4,
 "nbformat_minor": 4
}
