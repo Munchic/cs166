{
 "cells": [
  {
   "cell_type": "code",
   "execution_count": 54,
   "metadata": {},
   "outputs": [],
   "source": [
    "import urllib.request\n",
    "\n",
    "import numpy as np\n",
    "import pandas as pd\n",
    "\n",
    "import cvxpy as cp"
   ]
  },
  {
   "cell_type": "code",
   "execution_count": 46,
   "metadata": {},
   "outputs": [],
   "source": [
    "url = \"http://people.brunel.ac.uk/~mastjjb/jeb/orlib/files/port5.txt\"\n",
    "data = urllib.request.urlopen(url)\n",
    "num_entries = 0\n",
    "\n",
    "mean_rr = []\n",
    "std_rr = []\n",
    "\n",
    "for i, line in enumerate(data):\n",
    "    if i == 0:\n",
    "        num_entries = int(line)\n",
    "        corr_mat = np.zeros((num_entries, num_entries))\n",
    "    elif i <= num_entries:\n",
    "        mean, std = line.split()\n",
    "        mean_rr.append(float(mean))\n",
    "        std_rr.append(float(std))\n",
    "    else:\n",
    "        i, j, corr = line.split()\n",
    "        corr_mat[int(i) - 1, int(j) - 1] = float(corr)\n",
    "        corr_mat[int(j) - 1, int(i) - 1] = float(corr)"
   ]
  },
  {
   "cell_type": "code",
   "execution_count": 48,
   "metadata": {},
   "outputs": [
    {
     "name": "stdout",
     "output_type": "stream",
     "text": [
      "mu: (225,), sigma: (225,), corr: (225, 225)\n"
     ]
    }
   ],
   "source": [
    "mean_rr = np.array(mean_rr)\n",
    "std_rr = np.array(std_rr)\n",
    "print(f\"mu: {mean_rr.shape}, sigma: {std_rr.shape}, corr: {corr_mat.shape}\")"
   ]
  },
  {
   "cell_type": "markdown",
   "metadata": {},
   "source": [
    "1. $\\dfrac{1}{2}x^TCx$ represents portfolio risk because we're summing over covariances between rates of returns which gets us an overall variance\n",
    "2. Because $\\mu$ is mean rate of return so any $\\mu_ix_i \\geq r, \\mu_i, x_i \\geq 0 \\implies \\mu^Tx\\geq r$\n",
    "3. Since we cannot have negative owning of some stock and all the investments should add up to the capital we have"
   ]
  },
  {
   "cell_type": "markdown",
   "metadata": {},
   "source": [
    "### Covariance matrix"
   ]
  },
  {
   "cell_type": "code",
   "execution_count": 51,
   "metadata": {},
   "outputs": [],
   "source": [
    "cov = np.zeros((num_entries, num_entries))\n",
    "\n",
    "for i in range(num_entries):\n",
    "    for j in range(num_entries):\n",
    "        cov[i, j] = corr_mat[i, j] * std_rr[i] * std_rr[j]"
   ]
  },
  {
   "cell_type": "markdown",
   "metadata": {},
   "source": [
    "### Quadratic problem"
   ]
  },
  {
   "cell_type": "code",
   "execution_count": 66,
   "metadata": {},
   "outputs": [
    {
     "name": "stdout",
     "output_type": "stream",
     "text": [
      "\n",
      "The optimal value is 0.00038982425133101805\n",
      "A solution x is\n",
      "[-7.11748839e-22 -7.11032437e-20  5.23322788e-20  3.15901805e-20\n",
      "  1.47604532e-20 -3.24549242e-20 -1.49240972e-20  2.52105042e-20\n",
      "  7.95225596e-02  6.72714675e-20 -4.60017310e-20  2.26162520e-20\n",
      " -3.65217570e-20  7.99497242e-21  6.57828719e-21  2.24205448e-20\n",
      "  1.02311279e-20 -1.00842013e-20  2.64860075e-20  3.63819025e-20\n",
      "  9.00916674e-20  7.23462549e-21 -1.77026682e-20 -5.19043277e-21\n",
      " -2.94363671e-20  2.13220511e-20  1.36273849e-20 -3.54557453e-21\n",
      "  5.02429993e-20  5.37005755e-20  3.15539763e-21  3.19128664e-20\n",
      " -2.67083631e-20  4.49150883e-20 -3.03437117e-20  2.79040935e-20\n",
      " -9.63064337e-21  1.68053561e-20  3.69915155e-21  8.65979131e-02\n",
      "  3.25616746e-20 -2.47936708e-20  8.11993718e-02  4.92148170e-20\n",
      " -9.25688810e-21  3.96588756e-20  1.38632042e-20  1.51232314e-20\n",
      "  7.27617891e-21  3.53740074e-21  2.46882540e-20  2.63003526e-20\n",
      "  2.87659206e-20  3.09607410e-21  3.35136319e-20 -2.22018024e-20\n",
      "  5.80741066e-20  2.00685610e-20  1.73785782e-21  1.20080273e-01\n",
      "  1.08834457e-20  2.56742345e-01  3.92350885e-20  3.05248295e-21\n",
      "  2.16508124e-21  8.29325564e-21  1.40219575e-20  2.40552225e-20\n",
      "  7.14020221e-21 -4.28037643e-21 -2.90250280e-21  3.19453593e-20\n",
      "  1.02919290e-20 -2.05636808e-20 -1.42247611e-20  5.48650017e-20\n",
      " -6.40211252e-21  6.00410733e-20 -2.37035063e-20  4.42842323e-20\n",
      "  6.40575076e-21  4.06023118e-20  1.09076894e-20 -6.33181944e-20\n",
      "  7.39728334e-22  3.19056996e-20  1.21222078e-20 -7.26672475e-21\n",
      " -3.56075050e-21  1.00374372e-19 -1.10881264e-20  4.29563117e-22\n",
      "  1.73433265e-20  8.32978626e-21  1.62218775e-20  6.26449248e-20\n",
      "  5.92684196e-02  1.14941316e-20 -3.44815146e-20  2.21966240e-20\n",
      "  2.62851235e-20  7.06460996e-20  2.38308216e-20  3.11651657e-20\n",
      " -1.12002321e-20 -2.89327723e-21  4.46268257e-20  1.62083588e-20\n",
      "  5.40205906e-21  3.36002892e-20  8.25388963e-20  5.92316092e-20\n",
      "  4.05271818e-20  1.33619600e-21  7.41599945e-21 -1.06676449e-20\n",
      " -7.15954928e-21  4.13102422e-20  3.99203241e-20  3.91477928e-20\n",
      "  1.53379847e-20  5.09356393e-20  3.35507502e-20 -4.03533731e-21\n",
      "  1.78892743e-20  4.00585439e-20 -3.09755026e-20  3.46429105e-21\n",
      "  7.41141139e-02  1.38277440e-21 -4.05358582e-21  1.10124713e-20\n",
      "  6.75105533e-21  4.54664981e-20  2.63858689e-20  2.40978232e-20\n",
      "  1.61065407e-20  8.46585708e-21  8.16267870e-22  6.48221572e-21\n",
      "  8.73052416e-20 -6.44081692e-22  1.92346632e-20  2.55777552e-20\n",
      "  5.11709542e-20  3.28351674e-20  6.57813477e-20  9.90539346e-21\n",
      "  3.28218115e-20  6.26226078e-20  1.57348528e-21 -5.65455083e-21\n",
      "  3.78780532e-20  8.19701645e-21 -1.60904620e-20  3.71676733e-20\n",
      "  1.14417776e-20  9.69327210e-21  3.02585423e-20 -1.20561846e-20\n",
      "  6.76680351e-20 -2.11096195e-20 -8.80681996e-21  2.00964894e-20\n",
      " -2.24577244e-20  7.21236685e-21  8.41225155e-21  7.29522581e-21\n",
      "  1.10550567e-20  4.24201421e-20  5.72753855e-02  1.47504369e-20\n",
      "  6.40497989e-20  1.88255053e-20  2.30266439e-20 -7.30529622e-21\n",
      " -2.98292308e-20 -1.63619095e-21  1.27218440e-20  4.03258469e-21\n",
      "  5.83765669e-21 -2.55266162e-20  2.91938710e-20  3.66022452e-20\n",
      " -6.44579227e-20 -1.28419430e-20  4.12239964e-20 -2.14733372e-20\n",
      "  4.91456287e-20 -1.81909451e-20  8.44292052e-20  3.02239373e-20\n",
      "  2.90162212e-20  3.54146062e-20 -2.67819105e-20  9.80226014e-02\n",
      "  1.90007590e-20  6.14575374e-20 -9.60070085e-21  2.07356390e-20\n",
      " -5.01786800e-23  7.86245877e-21  1.34208648e-20  3.16241322e-20\n",
      "  3.95460154e-20  3.28299516e-20 -7.01006800e-22 -2.17802307e-21\n",
      "  3.75979398e-20  3.09381846e-21  1.47645682e-20  2.61912077e-20\n",
      "  9.72759069e-21 -2.56052534e-21  6.88415697e-02 -1.54537064e-20\n",
      " -1.36513558e-20 -2.47821214e-20  4.39107030e-20 -2.44573351e-20\n",
      " -1.05236679e-20  1.26756920e-20  5.80486828e-21  1.74252480e-20\n",
      "  1.83354469e-02]\n"
     ]
    }
   ],
   "source": [
    "x = cp.Variable(num_entries)\n",
    "r = 0.002\n",
    "\n",
    "prob = cp.Problem(cp.Minimize(cp.quad_form(x, cov)),\n",
    "                 [\n",
    "                     mean_rr @ x >= r,\n",
    "                     sum(x) == 1,\n",
    "                     np.min(x) >= 0,\n",
    "                 ])\n",
    "prob.solve()\n",
    "\n",
    "print(\"\\nThe optimal value is\", prob.value)\n",
    "print(\"A solution x is\")\n",
    "print(x.value)"
   ]
  },
  {
   "cell_type": "code",
   "execution_count": null,
   "metadata": {},
   "outputs": [],
   "source": []
  }
 ],
 "metadata": {
  "kernelspec": {
   "display_name": "Python 3.6.5 64-bit ('CS166': pipenv)",
   "language": "python",
   "name": "python36564bitcs166pipenv4d18d087d07c40f29b190cd12084da9e"
  },
  "language_info": {
   "codemirror_mode": {
    "name": "ipython",
    "version": 3
   },
   "file_extension": ".py",
   "mimetype": "text/x-python",
   "name": "python",
   "nbconvert_exporter": "python",
   "pygments_lexer": "ipython3",
   "version": "3.6.5"
  }
 },
 "nbformat": 4,
 "nbformat_minor": 4
}
