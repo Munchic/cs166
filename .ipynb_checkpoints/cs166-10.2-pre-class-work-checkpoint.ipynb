{
 "cells": [
  {
   "cell_type": "code",
   "execution_count": 67,
   "metadata": {},
   "outputs": [],
   "source": [
    "from scipy.stats import expon, uniform\n",
    "import numpy as np\n",
    "import random"
   ]
  },
  {
   "cell_type": "markdown",
   "metadata": {},
   "source": [
    "### Question 1"
   ]
  },
  {
   "cell_type": "code",
   "execution_count": 34,
   "metadata": {},
   "outputs": [],
   "source": [
    "a = expon(scale=1/2).rvs(100)"
   ]
  },
  {
   "cell_type": "code",
   "execution_count": 65,
   "metadata": {},
   "outputs": [
    {
     "name": "stdout",
     "output_type": "stream",
     "text": [
      "4.853419431609959\n"
     ]
    }
   ],
   "source": [
    "PASS_SIM = 1000\n",
    "BUS_SIM = 1000\n",
    "_lambda = 0.2  # mins waiting time\n",
    "avg_wait_time = 0\n",
    "\n",
    "# exponential case\n",
    "for _ in range(PASS_SIM):\n",
    "    passenger = uniform(scale=_lambda).rvs()\n",
    "    buses = expon(scale=1 / _lambda).rvs(BUS_SIM)\n",
    "    buses_to_catch = buses[buses > passenger]\n",
    "    avg_wait_time = np.mean(buses_to_catch - passenger)\n",
    "    \n",
    "print(avg_wait_time)"
   ]
  },
  {
   "cell_type": "code",
   "execution_count": 66,
   "metadata": {},
   "outputs": [
    {
     "name": "stdout",
     "output_type": "stream",
     "text": [
      "0.10760654963971528\n"
     ]
    }
   ],
   "source": [
    "avg_wait_time_2 = 0\n",
    "\n",
    "for _ in range(PASS_SIM):\n",
    "    passenger = uniform(scale=_lambda).rvs()\n",
    "    buses = uniform(scale=2*_lambda).rvs(BUS_SIM)\n",
    "    buses_to_catch = buses[buses > passenger]\n",
    "    avg_wait_time_2 = np.mean(buses_to_catch - passenger)\n",
    "    \n",
    "print(avg_wait_time_2)"
   ]
  },
  {
   "cell_type": "markdown",
   "metadata": {},
   "source": [
    "Makes sense, the $\\text{cdf}(next\\ bus) - \\text{cdf}(passenger)$ is larger for the uniform distribution since the cdf function rises linearly. For exponential case, the rate of growth drops."
   ]
  },
  {
   "cell_type": "markdown",
   "metadata": {},
   "source": [
    "### Question 2"
   ]
  },
  {
   "cell_type": "code",
   "execution_count": 50,
   "metadata": {},
   "outputs": [],
   "source": [
    "data = {\n",
    "    50: 0.00832, 51: 0.00911, 52: 0.00996, 53: 0.01089, 54: 0.01190,\n",
    "    55: 0.01300, 56: 0.01421, 57: 0.01554, 58: 0.01700, 59: 0.01859,\n",
    "    60: 0.02034, 61: 0.02224, 62: 0.02431, 63: 0.02657, 64: 0.02904,\n",
    "    65: 0.03175, 66: 0.03474, 67: 0.03804, 68: 0.04168, 69: 0.04561,\n",
    "    70: 0.04979, 71: 0.05415, 72: 0.05865, 73: 0.06326, 74: 0.06812,\n",
    "    75: 0.07337, 76: 0.07918, 77: 0.08570, 78: 0.09306, 79: 0.10119,\n",
    "    80: 0.10998, 81: 0.11935, 82: 0.12917, 83: 0.13938, 84: 0.15001,\n",
    "    85: 0.16114, 86: 0.17282, 87: 0.18513, 88: 0.19825, 89: 0.21246,\n",
    "    90: 0.22814, 91: 0.24577, 92: 0.26593, 93: 0.28930, 94: 0.31666,\n",
    "    95: 0.35124, 96: 0.40056, 97: 0.48842, 98: 0.66815, 99: 0.72000,\n",
    "    100: 0.76000, 101: 0.80000, 102: 0.85000, 103: 0.90000,\n",
    "    104: 0.96000, 105: 1.00000\n",
    "}"
   ]
  },
  {
   "cell_type": "code",
   "execution_count": 63,
   "metadata": {},
   "outputs": [
    {
     "name": "stdout",
     "output_type": "stream",
     "text": [
      "0.00832\n",
      "0.00911\n",
      "0.00996\n",
      "0.01089\n",
      "0.0119\n",
      "0.013\n",
      "0.01421\n",
      "0.01554\n",
      "0.017\n",
      "0.01859\n",
      "0.02034\n",
      "0.02224\n",
      "0.02431\n",
      "0.02657\n",
      "0.02904\n",
      "0.03175\n",
      "0.03474\n",
      "0.03804\n",
      "0.04168\n",
      "0.04561\n",
      "0.04979\n",
      "0.05415\n",
      "0.05865\n",
      "0.06326\n",
      "0.06812\n",
      "0.07337\n",
      "0.07918\n",
      "0.0857\n",
      "0.09306\n",
      "0.10119\n",
      "0.10998\n",
      "0.11935\n",
      "0.12917\n",
      "0.13938\n",
      "0.15001\n",
      "0.16114\n",
      "0.17282\n",
      "0.18513\n",
      "0.19825\n",
      "0.21246\n",
      "0.22814\n",
      "0.24577\n",
      "0.26593\n",
      "0.2893\n",
      "0.31666\n",
      "0.35124\n",
      "0.40056\n",
      "0.48842\n",
      "0.66815\n",
      "0.72\n",
      "0.76\n",
      "0.8\n",
      "0.85\n",
      "0.9\n",
      "0.96\n",
      "1.0\n"
     ]
    }
   ],
   "source": [
    "init_money = 150000\n",
    "growth_mu = 0.08\n",
    "growth_std = 0.09\n",
    "\n",
    "inv_amt = 10000\n",
    "spending = 65000\n",
    "\n",
    "amt_money_store = []\n",
    "\n",
    "for age, prob_die in data.items():\n",
    "    if random.random() > prob_die:\n",
    "    else:"
   ]
  },
  {
   "cell_type": "code",
   "execution_count": 58,
   "metadata": {},
   "outputs": [
    {
     "data": {
      "text/plain": [
       "[50,\n",
       " 51,\n",
       " 52,\n",
       " 53,\n",
       " 54,\n",
       " 55,\n",
       " 56,\n",
       " 57,\n",
       " 58,\n",
       " 59,\n",
       " 60,\n",
       " 61,\n",
       " 62,\n",
       " 63,\n",
       " 64,\n",
       " 65,\n",
       " 66,\n",
       " 67,\n",
       " 68,\n",
       " 69,\n",
       " 70,\n",
       " 71,\n",
       " 72,\n",
       " 73,\n",
       " 74,\n",
       " 75,\n",
       " 76,\n",
       " 77,\n",
       " 78,\n",
       " 79,\n",
       " 80,\n",
       " 81,\n",
       " 82,\n",
       " 83,\n",
       " 84,\n",
       " 85,\n",
       " 86,\n",
       " 87,\n",
       " 88,\n",
       " 89,\n",
       " 90,\n",
       " 91,\n",
       " 92,\n",
       " 93,\n",
       " 94,\n",
       " 95,\n",
       " 96,\n",
       " 97,\n",
       " 98,\n",
       " 99,\n",
       " 100,\n",
       " 101,\n",
       " 102,\n",
       " 103,\n",
       " 104,\n",
       " 105]"
      ]
     },
     "execution_count": 58,
     "metadata": {},
     "output_type": "execute_result"
    }
   ],
   "source": [
    "list(data.keys())"
   ]
  },
  {
   "cell_type": "code",
   "execution_count": null,
   "metadata": {},
   "outputs": [],
   "source": []
  }
 ],
 "metadata": {
  "kernelspec": {
   "display_name": "Python 3",
   "language": "python",
   "name": "python3"
  },
  "language_info": {
   "codemirror_mode": {
    "name": "ipython",
    "version": 3
   },
   "file_extension": ".py",
   "mimetype": "text/x-python",
   "name": "python",
   "nbconvert_exporter": "python",
   "pygments_lexer": "ipython3",
   "version": "3.6.5"
  }
 },
 "nbformat": 4,
 "nbformat_minor": 4
}
