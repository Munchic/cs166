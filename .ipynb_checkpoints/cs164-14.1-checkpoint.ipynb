{
 "cells": [
  {
   "cell_type": "code",
   "execution_count": 2,
   "metadata": {},
   "outputs": [],
   "source": [
    "import numpy as np\n",
    "import pandas as pd\n",
    "\n",
    "import cvxpy as cp"
   ]
  },
  {
   "cell_type": "markdown",
   "metadata": {},
   "source": [
    "# Task 1\n",
    "$$p^* = \\max Z = 5x_1 + 4x_2$$\n",
    "$$\\begin{cases} 3x_1 + 4x_2 \\leq 10 \\\\ x_1, x_2 \\in \\mathbb{N} \\geq 0 \\end{cases}$$"
   ]
  },
  {
   "cell_type": "code",
   "execution_count": 15,
   "metadata": {},
   "outputs": [
    {
     "name": "stdout",
     "output_type": "stream",
     "text": [
      "\n",
      "The optimal value is 16.66666664955361\n",
      "x1: 3.333333326749174, x2: 3.951934089095033e-09\n"
     ]
    }
   ],
   "source": [
    "x_1 = cp.Variable()\n",
    "x_2 = cp.Variable()\n",
    "\n",
    "obj = cp.Maximize(5*x_1 + 4*x_2)\n",
    "prob = cp.Problem(obj,\n",
    "                 [\n",
    "                     3*x_1 + 4*x_2 <= 10,\n",
    "                     x_1 >= 0,\n",
    "                     x_2 >= 0\n",
    "                 ])\n",
    "prob.solve()\n",
    "\n",
    "print(\"\\nThe optimal value is\", prob.value)\n",
    "print(f\"x1: {x_1.value}, x2: {x_2.value}\")"
   ]
  },
  {
   "cell_type": "markdown",
   "metadata": {},
   "source": [
    "### Node 1\n",
    "UB: $16.6666$\n",
    "\n",
    "LB: $15\\ (x_1 = 3, x_2 = 0)$\n",
    "\n",
    "### Node 1.1\n",
    "$x_1 \\leq 3$\n",
    "\n",
    "### Node 1.2\n",
    "$x_1 \\geq 4$ is not possible because first constraint is not met"
   ]
  },
  {
   "cell_type": "code",
   "execution_count": 16,
   "metadata": {},
   "outputs": [
    {
     "name": "stdout",
     "output_type": "stream",
     "text": [
      "\n",
      "The optimal value is 15.99999999955193\n",
      "x1: 2.999999999934109, x2: 0.24999999997034605\n"
     ]
    }
   ],
   "source": [
    "prob = cp.Problem(obj,\n",
    "                 [\n",
    "                     3*x_1 + 4*x_2 <= 10,\n",
    "                     x_1 <= 3,\n",
    "                     x_1 >= 0,\n",
    "                     x_2 >= 0\n",
    "                 ])\n",
    "prob.solve()\n",
    "\n",
    "print(\"\\nThe optimal value is\", prob.value)\n",
    "print(f\"x1: {x_1.value}, x2: {x_2.value}\")"
   ]
  },
  {
   "cell_type": "markdown",
   "metadata": {},
   "source": [
    "### Node 1.1\n",
    "UB: $16$\n",
    "\n",
    "LB: $15\\ (x_1 = 3, x_2 = 0)$\n",
    "\n",
    "### Node 1.1.1\n",
    "$x_2 >= 1$\n",
    "\n",
    "### Node 1.1.2\n",
    "$x_2 <= 0$"
   ]
  },
  {
   "cell_type": "code",
   "execution_count": 20,
   "metadata": {},
   "outputs": [
    {
     "name": "stdout",
     "output_type": "stream",
     "text": [
      "1.1.1:\n",
      "\n",
      "The optimal value is 13.999999989067822\n",
      "x1: 1.9999999961387218, x2: 1.0000000020935529\n",
      "1.1.2:\n",
      "\n",
      "The optimal value is 15.000000000565414\n",
      "x1: 3.000000000111104, x2: 2.4729501896409894e-12\n"
     ]
    }
   ],
   "source": [
    "# 1.1.1\n",
    "prob = cp.Problem(obj,\n",
    "                 [\n",
    "                     3*x_1 + 4*x_2 <= 10,\n",
    "                     x_1 <= 3,\n",
    "                     x_1 >= 0,\n",
    "                     x_2 >= 1\n",
    "                 ])\n",
    "prob.solve()\n",
    "\n",
    "print(\"1.1.1:\")\n",
    "print(\"\\nThe optimal value is\", prob.value)\n",
    "print(f\"x1: {x_1.value}, x2: {x_2.value}\")\n",
    "\n",
    "# 1.1.2\n",
    "prob = cp.Problem(obj,\n",
    "                 [\n",
    "                     3*x_1 + 4*x_2 <= 10,\n",
    "                     x_1 <= 3,\n",
    "                     x_1 >= 0,\n",
    "                     x_2 >= 0,\n",
    "                     x_2 <= 0\n",
    "                 ])\n",
    "prob.solve()\n",
    "\n",
    "print(\"1.1.2:\")\n",
    "print(\"\\nThe optimal value is\", prob.value)\n",
    "print(f\"x1: {x_1.value}, x2: {x_2.value}\")"
   ]
  },
  {
   "cell_type": "markdown",
   "metadata": {},
   "source": [
    "### Node 1.1.1\n",
    "UB: $14$\n",
    "\n",
    "LB: $14$\n",
    "\n",
    "### Node 1.1.2\n",
    "\n",
    "UB: $15$\n",
    "\n",
    "LB: $15$\n",
    "\n",
    "Optimal solution is found at node 1.1.2 because the upper and lower bounds match and the lower bound is the highest value of all nodes. Thus, the solution is $x_1 = 3, x_2 = 0$."
   ]
  },
  {
   "cell_type": "markdown",
   "metadata": {},
   "source": [
    "# Task 2\n",
    "$$p^* = \\max \\text{profit} = 50*\\text{coat} + 40*\\text{slack}$$\n",
    "$$\\begin{cases} 3*\\text{coat} + 5*\\text{slack} \\leq 150 \\\\ 10*\\text{coat} + 4*\\text{slack} \\leq 200 \\end{cases}$$"
   ]
  },
  {
   "cell_type": "code",
   "execution_count": 25,
   "metadata": {},
   "outputs": [
    {
     "name": "stdout",
     "output_type": "stream",
     "text": [
      "\n",
      "The highest profit is: 1473.6842103374033\n",
      "n_coat: 10.52631578438763, n_slack: 23.684210527950544\n"
     ]
    }
   ],
   "source": [
    "coat = cp.Variable()\n",
    "slack = cp.Variable()\n",
    "\n",
    "profit = cp.Maximize(50*coat + 40*slack)\n",
    "prob = cp.Problem(profit,\n",
    "                 [\n",
    "                     3*coat + 5*slack <= 150,\n",
    "                     10*coat + 4*slack <= 200,\n",
    "                     coat >= 0,\n",
    "                     slack >= 0,\n",
    "                 ])\n",
    "prob.solve()\n",
    "\n",
    "print(\"\\nThe highest profit is:\", prob.value)\n",
    "print(f\"n_coat: {coat.value}, n_slack: {slack.value}\")"
   ]
  },
  {
   "cell_type": "markdown",
   "metadata": {},
   "source": [
    "### Node 1\n",
    "UB: $1473.684$\n",
    "\n",
    "LB: $1420\\ (50*10 + 40*23)$\n",
    "\n",
    "Take the node with largest deviation from its floor value: 23.68\n",
    "### Node 1.1\n",
    "$\\text{slack} \\leq 23$\n",
    "\n",
    "### Node 1.2\n",
    "$\\text{slack} \\geq 24$"
   ]
  },
  {
   "cell_type": "code",
   "execution_count": 30,
   "metadata": {},
   "outputs": [
    {
     "name": "stdout",
     "output_type": "stream",
     "text": [
      "1.1:\n",
      "The highest profit is: 1459.9999998370172\n",
      "n_coat: 10.800000000865548, n_slack: 22.99999999484349\n",
      "\n",
      "1.2:\n",
      "The highest profit is: 1460.0000000417604\n",
      "n_coat: 9.999999997420302, n_slack: 24.000000004268625\n"
     ]
    }
   ],
   "source": [
    "# 1.1\n",
    "prob = cp.Problem(profit,\n",
    "                 [\n",
    "                     3*coat + 5*slack <= 150,\n",
    "                     10*coat + 4*slack <= 200,\n",
    "                     coat >= 0,\n",
    "                     slack >= 0,\n",
    "                     slack <= 23\n",
    "                 ])\n",
    "prob.solve()\n",
    "\n",
    "print(\"1.1:\")\n",
    "print(\"The highest profit is:\", prob.value)\n",
    "print(f\"n_coat: {coat.value}, n_slack: {slack.value}\")\n",
    "\n",
    "# 1.2\n",
    "prob = cp.Problem(profit,\n",
    "                 [\n",
    "                     3*coat + 5*slack <= 150,\n",
    "                     10*coat + 4*slack <= 200,\n",
    "                     coat >= 0,\n",
    "                     slack >= 24\n",
    "                 ])\n",
    "prob.solve()\n",
    "\n",
    "print(\"\\n1.2:\")\n",
    "print(\"The highest profit is:\", prob.value)\n",
    "print(f\"n_coat: {coat.value}, n_slack: {slack.value}\")"
   ]
  },
  {
   "cell_type": "markdown",
   "metadata": {},
   "source": [
    "### Node 1.1\n",
    "UB: $1460$\n",
    "\n",
    "LB: $1380\\ (50*10 + 40*22)$\n",
    "\n",
    "This node's lower bound dropped below the original lower bound so we're not interested in it.\n",
    "\n",
    "### Node 1.2\n",
    "UB: $1460$\n",
    "\n",
    "LB: $1460\\ (50*10 + 40*24)$\n",
    "\n",
    "We converged on a solution here because UB = LB, and it's maximal LB.\n",
    "\n",
    "Then tailor should produce 10 coats and 24 slacks."
   ]
  },
  {
   "cell_type": "code",
   "execution_count": null,
   "metadata": {},
   "outputs": [],
   "source": []
  }
 ],
 "metadata": {
  "kernelspec": {
   "display_name": "Python 3",
   "language": "python",
   "name": "python3"
  },
  "language_info": {
   "codemirror_mode": {
    "name": "ipython",
    "version": 3
   },
   "file_extension": ".py",
   "mimetype": "text/x-python",
   "name": "python",
   "nbconvert_exporter": "python",
   "pygments_lexer": "ipython3",
   "version": "3.6.5"
  }
 },
 "nbformat": 4,
 "nbformat_minor": 4
}
