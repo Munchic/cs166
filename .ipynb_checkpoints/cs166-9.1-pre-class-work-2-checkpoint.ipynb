{
 "cells": [
  {
   "cell_type": "code",
   "execution_count": 3,
   "metadata": {},
   "outputs": [],
   "source": [
    "import matplotlib\n",
    "from pylab import *\n",
    "import networkx as nx\n",
    "import random as rd"
   ]
  },
  {
   "cell_type": "code",
   "execution_count": 37,
   "metadata": {},
   "outputs": [],
   "source": [
    "def calc_average_deg(g):\n",
    "    return len(g.edges) * 2 / len(g.nodes)\n",
    "\n",
    "def calc_avg_neighbor_deg(g):\n",
    "    num_of_nodes = 0\n",
    "    num_of_neigh = 0\n",
    "    for e in g.edges:\n",
    "        num_of_neigh += len(list(g.neighbors(e[0]))) + len(list(g.neighbors(e[1])))\n",
    "        num_of_nodes += 2\n",
    "        \n",
    "    return num_of_neigh / num_of_nodes"
   ]
  },
  {
   "cell_type": "code",
   "execution_count": 41,
   "metadata": {},
   "outputs": [
    {
     "name": "stdout",
     "output_type": "stream",
     "text": [
      "40.068\n",
      "40.94798841968653\n"
     ]
    }
   ],
   "source": [
    "er = nx.erdos_renyi_graph(1000, 0.04)\n",
    "print(calc_average_deg(er))\n",
    "print(calc_avg_neighbor_deg(er))"
   ]
  },
  {
   "cell_type": "code",
   "execution_count": 42,
   "metadata": {},
   "outputs": [
    {
     "name": "stdout",
     "output_type": "stream",
     "text": [
      "40.0\n",
      "40.40465\n"
     ]
    }
   ],
   "source": [
    "ws = nx.watts_strogatz_graph(1000, 40, 0.5)\n",
    "print(calc_average_deg(ws))\n",
    "print(calc_avg_neighbor_deg(ws))"
   ]
  },
  {
   "cell_type": "code",
   "execution_count": 47,
   "metadata": {},
   "outputs": [
    {
     "name": "stdout",
     "output_type": "stream",
     "text": [
      "39.2\n",
      "61.94755102040816\n"
     ]
    }
   ],
   "source": [
    "ba = nx.barabasi_albert_graph(1000, 20)\n",
    "print(calc_average_deg(ba))\n",
    "print(calc_avg_neighbor_deg(ba))"
   ]
  },
  {
   "cell_type": "code",
   "execution_count": null,
   "metadata": {},
   "outputs": [],
   "source": []
  }
 ],
 "metadata": {
  "kernelspec": {
   "display_name": "Python 3",
   "language": "python",
   "name": "python3"
  },
  "language_info": {
   "codemirror_mode": {
    "name": "ipython",
    "version": 3
   },
   "file_extension": ".py",
   "mimetype": "text/x-python",
   "name": "python",
   "nbconvert_exporter": "python",
   "pygments_lexer": "ipython3",
   "version": "3.6.5"
  }
 },
 "nbformat": 4,
 "nbformat_minor": 4
}
