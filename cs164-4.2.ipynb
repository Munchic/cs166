{
 "cells": [
  {
   "cell_type": "code",
   "execution_count": 38,
   "metadata": {},
   "outputs": [],
   "source": [
    "import matplotlib.pyplot as plt"
   ]
  },
  {
   "cell_type": "code",
   "execution_count": 34,
   "metadata": {},
   "outputs": [],
   "source": [
    "def f(x1, x2):\n",
    "    val = 5*x1**2 + x2**2 + 4*x1*x2 - 14*x1 - 6*x2 + 20\n",
    "    \n",
    "    return val\n",
    "\n",
    "def gradient(x1, x2):\n",
    "    partial_x1 = 10*x1 + 4*x2 - 14\n",
    "    partial_x2 = 2*x2 + 4*x1 - 6\n",
    "    \n",
    "    return (partial_x1, partial_x2)\n",
    "\n",
    "def diff_h(alpha):\n",
    "    gradient_x1 = gradient(x1, x2)[0]\n",
    "    gradient_x2 = gradient(x2, x2)[0]\n",
    "    descent = (-gradient_x1, -gradient_x2)\n",
    "    \n",
    "    new_gradient_x1 = (gradient(x1 + alpha*descent[0], x2 + alpha*descent[1])[0]) * descent[0]\n",
    "    new_gradient_x2 = (gradient(x1 + alpha*descent[0], x2 + alpha*descent[1])[0]) * descent[1]\n",
    "    \n",
    "    return gradient_x1 * new_gradient_x1 + gradient_x2 * new_gradient_x2\n",
    "\n",
    "def bi_search(x1, x2, descent, eps=1e-4):\n",
    "    alpha_low = 0\n",
    "    alpha_hi = 5\n",
    "    alpha = (alpha_low + alpha_hi) / 2\n",
    "    \n",
    "    while abs(diff_h(alpha)) > eps:\n",
    "        if diff_h(alpha) > 0:\n",
    "            alpha_hi = alpha\n",
    "        else:\n",
    "            alpha_low = alpha\n",
    "            \n",
    "        alpha = (alpha_low + alpha_hi) / 2\n",
    "        \n",
    "    return alpha"
   ]
  },
  {
   "cell_type": "code",
   "execution_count": 69,
   "metadata": {},
   "outputs": [],
   "source": [
    "eps = 1e-4\n",
    "x1 = 10\n",
    "x2 = 5\n",
    "cur_val = f(x1, x2)\n",
    "max_iter = 1000"
   ]
  },
  {
   "cell_type": "code",
   "execution_count": 70,
   "metadata": {},
   "outputs": [],
   "source": [
    "history_x1 = [x1]\n",
    "history_x2 = [x2]\n",
    "history_val = [cur_val]\n",
    "\n",
    "for i in range(max_iter):\n",
    "    gradient_x1 = gradient(x1, x2)[0]\n",
    "    gradient_x2 = gradient(x2, x2)[0]\n",
    "    descent = (-gradient_x1, -gradient_x2)\n",
    "    alpha = bi_search(x1, x2, descent)\n",
    "    \n",
    "    x1 += alpha*descent[0]\n",
    "    x2 += alpha*descent[1]\n",
    "    new_val = f(x1, x2)\n",
    "    \n",
    "    history_x1.append(x1)\n",
    "    history_x2.append(x2)\n",
    "    history_val.append(new_val)\n",
    "    \n",
    "    if new_val - cur_val < eps:\n",
    "        break\n",
    "    else:\n",
    "        cur_val = new_val"
   ]
  },
  {
   "cell_type": "code",
   "execution_count": 71,
   "metadata": {},
   "outputs": [
    {
     "name": "stdout",
     "output_type": "stream",
     "text": [
      "1.2492211832432076 0.37694704020395875\n",
      "10.077638998142122\n"
     ]
    }
   ],
   "source": [
    "print(x1, x2)\n",
    "print(new_val)"
   ]
  },
  {
   "cell_type": "code",
   "execution_count": 72,
   "metadata": {},
   "outputs": [
    {
     "data": {
      "text/plain": [
       "[<matplotlib.lines.Line2D at 0x11805efd0>]"
      ]
     },
     "execution_count": 72,
     "metadata": {},
     "output_type": "execute_result"
    },
    {
     "data": {
      "image/png": "[encoded data removed]",
      "text/plain": [
       "<Figure size 432x288 with 1 Axes>"
      ]
     },
     "metadata": {
      "needs_background": "light"
     },
     "output_type": "display_data"
    }
   ],
   "source": [
    "plt.plot(history_x1, history_x2)"
   ]
  },
  {
   "cell_type": "code",
   "execution_count": 73,
   "metadata": {},
   "outputs": [
    {
     "data": {
      "text/plain": [
       "[<matplotlib.lines.Line2D at 0x1180bcd68>]"
      ]
     },
     "execution_count": 73,
     "metadata": {},
     "output_type": "execute_result"
    },
    {
     "data": {
      "image/png": "[encoded data removed]",
      "text/plain": [
       "<Figure size 432x288 with 1 Axes>"
      ]
     },
     "metadata": {
      "needs_background": "light"
     },
     "output_type": "display_data"
    }
   ],
   "source": [
    "plt.plot(history_x1, history_val)"
   ]
  },
  {
   "cell_type": "code",
   "execution_count": null,
   "metadata": {},
   "outputs": [],
   "source": []
  }
 ],
 "metadata": {
  "kernelspec": {
   "display_name": "Python 3",
   "language": "python",
   "name": "python3"
  },
  "language_info": {
   "codemirror_mode": {
    "name": "ipython",
    "version": 3
   },
   "file_extension": ".py",
   "mimetype": "text/x-python",
   "name": "python",
   "nbconvert_exporter": "python",
   "pygments_lexer": "ipython3",
   "version": "3.6.5"
  }
 },
 "nbformat": 4,
 "nbformat_minor": 4
}
