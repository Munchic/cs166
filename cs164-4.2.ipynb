{
 "cells": [
  {
   "cell_type": "code",
   "execution_count": 5,
   "metadata": {},
   "outputs": [],
   "source": [
    "def f(x1, x2):\n",
    "    val = 5*x1**2 + x2**2 + 4*x1*x2 - 14*x1 - 6*x2 + 20\n",
    "    \n",
    "    return val\n",
    "\n",
    "def gradient(x1, x2):\n",
    "    partial_x1 = 10*x1 + 4*x2 - 14\n",
    "    partial_x2 = 2*x2 + 4*x1 - 6\n",
    "    \n",
    "    return (partial_x1, partial_x2)\n",
    "\n",
    "def diff_h(alpha):\n",
    "    descent = -gradient(x1, x2)\n",
    "    new_gradient_x1 = gradient(x1 + alpha*descent)[0] * descent[0]\n",
    "    new_gradient_x2 = gradient(x2 + alpha*descent)[0] * descent[1]\n",
    "    \n",
    "    return (new_gradient_x1, new_gradient_x2)\n",
    "\n",
    "def bi_search(x1, x2, descent, eps=1e-4):\n",
    "    alpha_low = 0\n",
    "    alpha_hi = 5\n",
    "    alpha = (alpha_low + alpha_hi) / 2\n",
    "    \n",
    "    while abs(diff_h(alpha)) > eps:\n",
    "        if diff_h(alpha) > 0:\n",
    "            alpha_hi = alpha\n",
    "        else:\n",
    "            alpha_low = alpha\n",
    "            \n",
    "        alpha = (alpha_low + alpha_hi) / 2\n",
    "        \n",
    "    return alpha"
   ]
  },
  {
   "cell_type": "code",
   "execution_count": 6,
   "metadata": {},
   "outputs": [],
   "source": [
    "eps = 1e-4\n",
    "x1 = 5\n",
    "x2 = 5\n",
    "cur_val = f(x1, x2)\n",
    "max_iter = 1000"
   ]
  },
  {
   "cell_type": "code",
   "execution_count": 7,
   "metadata": {},
   "outputs": [
    {
     "ename": "TypeError",
     "evalue": "bad operand type for unary -: 'tuple'",
     "output_type": "error",
     "traceback": [
      "\u001b[0;31m---------------------------------------------------------------------------\u001b[0m",
      "\u001b[0;31mTypeError\u001b[0m                                 Traceback (most recent call last)",
      "\u001b[0;32m<ipython-input-7-25ae6d531331>\u001b[0m in \u001b[0;36m<module>\u001b[0;34m\u001b[0m\n\u001b[1;32m      1\u001b[0m \u001b[0;32mfor\u001b[0m \u001b[0mi\u001b[0m \u001b[0;32min\u001b[0m \u001b[0mrange\u001b[0m\u001b[0;34m(\u001b[0m\u001b[0mmax_iter\u001b[0m\u001b[0;34m)\u001b[0m\u001b[0;34m:\u001b[0m\u001b[0;34m\u001b[0m\u001b[0m\n\u001b[0;32m----> 2\u001b[0;31m     \u001b[0mdescent\u001b[0m \u001b[0;34m=\u001b[0m \u001b[0;34m-\u001b[0m\u001b[0mgradient\u001b[0m\u001b[0;34m(\u001b[0m\u001b[0mx1\u001b[0m\u001b[0;34m,\u001b[0m \u001b[0mx2\u001b[0m\u001b[0;34m)\u001b[0m\u001b[0;34m\u001b[0m\u001b[0m\n\u001b[0m\u001b[1;32m      3\u001b[0m     \u001b[0malpha\u001b[0m \u001b[0;34m=\u001b[0m \u001b[0mbi_search\u001b[0m\u001b[0;34m(\u001b[0m\u001b[0mx1\u001b[0m\u001b[0;34m,\u001b[0m \u001b[0mx2\u001b[0m\u001b[0;34m,\u001b[0m \u001b[0mdescent\u001b[0m\u001b[0;34m)\u001b[0m\u001b[0;34m\u001b[0m\u001b[0m\n\u001b[1;32m      4\u001b[0m \u001b[0;34m\u001b[0m\u001b[0m\n\u001b[1;32m      5\u001b[0m     \u001b[0mx1\u001b[0m \u001b[0;34m+=\u001b[0m \u001b[0malpha\u001b[0m\u001b[0;34m*\u001b[0m\u001b[0mdescent\u001b[0m\u001b[0;34m[\u001b[0m\u001b[0;36m0\u001b[0m\u001b[0;34m]\u001b[0m\u001b[0;34m\u001b[0m\u001b[0m\n",
      "\u001b[0;31mTypeError\u001b[0m: bad operand type for unary -: 'tuple'"
     ]
    }
   ],
   "source": [
    "for i in range(max_iter):\n",
    "    gradient_x1 = gradient(x1, x2)[0]\n",
    "    gradient_x2 = gradient(x2, x2)[0]\n",
    "    descent = (-gradient_x1, -gradient_x2)\n",
    "    alpha = bi_search(x1, x2, descent)\n",
    "    \n",
    "    x1 += alpha*descent[0]\n",
    "    x2 += alpha*descent[1]\n",
    "    new_val = f(x1, x2)\n",
    "    \n",
    "    if new_val - cur_val < eps:\n",
    "        break"
   ]
  },
  {
   "cell_type": "code",
   "execution_count": null,
   "metadata": {},
   "outputs": [],
   "source": []
  }
 ],
 "metadata": {
  "kernelspec": {
   "display_name": "Python 3",
   "language": "python",
   "name": "python3"
  },
  "language_info": {
   "codemirror_mode": {
    "name": "ipython",
    "version": 3
   },
   "file_extension": ".py",
   "mimetype": "text/x-python",
   "name": "python",
   "nbconvert_exporter": "python",
   "pygments_lexer": "ipython3",
   "version": "3.6.5"
  }
 },
 "nbformat": 4,
 "nbformat_minor": 4
}
