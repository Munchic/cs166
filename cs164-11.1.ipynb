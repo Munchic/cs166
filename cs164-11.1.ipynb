{
 "cells": [
  {
   "cell_type": "code",
   "execution_count": 54,
   "metadata": {},
   "outputs": [],
   "source": [
    "import urllib.request\n",
    "\n",
    "import numpy as np\n",
    "import pandas as pd\n",
    "\n",
    "import cvxpy as cp"
   ]
  },
  {
   "cell_type": "code",
   "execution_count": 46,
   "metadata": {},
   "outputs": [],
   "source": [
    "url = \"http://people.brunel.ac.uk/~mastjjb/jeb/orlib/files/port5.txt\"\n",
    "data = urllib.request.urlopen(url)\n",
    "num_entries = 0\n",
    "\n",
    "mean_rr = []\n",
    "std_rr = []\n",
    "\n",
    "for i, line in enumerate(data):\n",
    "    if i == 0:\n",
    "        num_entries = int(line)\n",
    "        corr_mat = np.zeros((num_entries, num_entries))\n",
    "    elif i <= num_entries:\n",
    "        mean, std = line.split()\n",
    "        mean_rr.append(float(mean))\n",
    "        std_rr.append(float(std))\n",
    "    else:\n",
    "        i, j, corr = line.split()\n",
    "        corr_mat[int(i) - 1, int(j) - 1] = float(corr)\n",
    "        corr_mat[int(j) - 1, int(i) - 1] = float(corr)"
   ]
  },
  {
   "cell_type": "code",
   "execution_count": 48,
   "metadata": {},
   "outputs": [
    {
     "name": "stdout",
     "output_type": "stream",
     "text": [
      "mu: (225,), sigma: (225,), corr: (225, 225)\n"
     ]
    }
   ],
   "source": [
    "mean_rr = np.array(mean_rr)\n",
    "std_rr = np.array(std_rr)\n",
    "print(f\"mu: {mean_rr.shape}, sigma: {std_rr.shape}, corr: {corr_mat.shape}\")"
   ]
  },
  {
   "cell_type": "markdown",
   "metadata": {},
   "source": [
    "1. $\\dfrac{1}{2}x^TCx$ represents portfolio risk because we're summing over covariances between rates of returns which gets us an overall variance\n",
    "2. Because $\\mu$ is mean rate of return so any $\\mu_ix_i \\geq r, \\mu_i, x_i \\geq 0 \\implies \\mu^Tx\\geq r$\n",
    "3. Since we cannot have negative owning of some stock and all the investments should add up to the capital we have"
   ]
  },
  {
   "cell_type": "markdown",
   "metadata": {},
   "source": [
    "### Covariance matrix"
   ]
  },
  {
   "cell_type": "code",
   "execution_count": 51,
   "metadata": {},
   "outputs": [],
   "source": [
    "cov = np.zeros((num_entries, num_entries))\n",
    "\n",
    "for i in range(num_entries):\n",
    "    for j in range(num_entries):\n",
    "        cov[i, j] = corr_mat[i, j] * std_rr[i] * std_rr[j]"
   ]
  },
  {
   "cell_type": "markdown",
   "metadata": {},
   "source": [
    "### Quadratic problem"
   ]
  },
  {
   "cell_type": "code",
   "execution_count": 62,
   "metadata": {},
   "outputs": [
    {
     "name": "stdout",
     "output_type": "stream",
     "text": [
      "\n",
      "The optimal value is inf\n",
      "A solution x is\n",
      "None\n",
      "A dual solution corresponding to the inequality constraints is\n",
      "None\n"
     ]
    }
   ],
   "source": [
    "x = cp.Variable(num_entries)\n",
    "r = 0.002\n",
    "\n",
    "prob = cp.Problem(cp.Minimize(cp.quad_form(x, cov)),\n",
    "                 [\n",
    "                     mean_rr @ x >= r,\n",
    "                     np.sum(x) == 1,\n",
    "                     x >= 0,\n",
    "                 ])\n",
    "prob.solve()\n",
    "\n",
    "print(\"\\nThe optimal value is\", prob.value)\n",
    "print(\"A solution x is\")\n",
    "print(x.value)\n",
    "print(\"A dual solution corresponding to the inequality constraints is\")\n",
    "print(prob.constraints[0].dual_value)"
   ]
  },
  {
   "cell_type": "code",
   "execution_count": null,
   "metadata": {},
   "outputs": [],
   "source": []
  }
 ],
 "metadata": {
  "kernelspec": {
   "display_name": "Python 3.6.5 64-bit ('CS166': pipenv)",
   "language": "python",
   "name": "python36564bitcs166pipenv4d18d087d07c40f29b190cd12084da9e"
  },
  "language_info": {
   "codemirror_mode": {
    "name": "ipython",
    "version": 3
   },
   "file_extension": ".py",
   "mimetype": "text/x-python",
   "name": "python",
   "nbconvert_exporter": "python",
   "pygments_lexer": "ipython3",
   "version": "3.6.5"
  }
 },
 "nbformat": 4,
 "nbformat_minor": 4
}
