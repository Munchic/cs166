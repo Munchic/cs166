{
 "cells": [
  {
   "cell_type": "code",
   "execution_count": 1,
   "metadata": {},
   "outputs": [],
   "source": [
    "import networkx as nx\n",
    "import numpy as np\n",
    "import matplotlib.pyplot as plt"
   ]
  },
  {
   "cell_type": "code",
   "execution_count": null,
   "metadata": {},
   "outputs": [],
   "source": [
    "class DiffusionModel:\n",
    "    \n",
    "    def __init__(num_nodes, init_node_state=0.5, init_edge_state=0.5):\n",
    "        nx.\n",
    "        \n",
    "    def initialize():\n",
    "        global g, nextg\n",
    "        g = nx.karate_club_graph()\n",
    "        for i, j in g.edges_iter(): g.edge[i][j][’weight’] = 0.5\n",
    "        g.pos = nx.spring_layout(g) for i in g.nodes_iter():\n",
    "        g.node[i][’state’] = 1 if g.node[i][’club’] == ’Mr. Hi’ else 0 nextg = g.copy()"
   ]
  }
 ],
 "metadata": {
  "kernelspec": {
   "display_name": "Python 3",
   "language": "python",
   "name": "python3"
  },
  "language_info": {
   "codemirror_mode": {
    "name": "ipython",
    "version": 3
   },
   "file_extension": ".py",
   "mimetype": "text/x-python",
   "name": "python",
   "nbconvert_exporter": "python",
   "pygments_lexer": "ipython3",
   "version": "3.6.5"
  }
 },
 "nbformat": 4,
 "nbformat_minor": 4
}
